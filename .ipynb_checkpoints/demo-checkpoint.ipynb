{
 "cells": [
  {
   "cell_type": "code",
   "execution_count": 1,
   "metadata": {},
   "outputs": [],
   "source": [
    "# %load demo.py\n",
    "import numpy as np\n",
    "\n",
    "import dataframe_provider\n",
    "import ml_model\n",
    "import plots_utils\n",
    "import utils\n",
    "%matplotlib inline\n",
    "\n",
    "\n",
    "df = dataframe_provider.get_dataframe()\n"
   ]
  },
  {
   "cell_type": "code",
   "execution_count": 2,
   "metadata": {},
   "outputs": [
    {
     "data": {
      "text/html": [
       "<div>\n",
       "<style scoped>\n",
       "    .dataframe tbody tr th:only-of-type {\n",
       "        vertical-align: middle;\n",
       "    }\n",
       "\n",
       "    .dataframe tbody tr th {\n",
       "        vertical-align: top;\n",
       "    }\n",
       "\n",
       "    .dataframe thead th {\n",
       "        text-align: right;\n",
       "    }\n",
       "</style>\n",
       "<table border=\"1\" class=\"dataframe\">\n",
       "  <thead>\n",
       "    <tr style=\"text-align: right;\">\n",
       "      <th></th>\n",
       "      <th>author_label</th>\n",
       "      <th>avg_paragraph_length</th>\n",
       "      <th>avg_sentence_length</th>\n",
       "      <th>avg_word_length</th>\n",
       "      <th>letters_count</th>\n",
       "      <th>paragraphs_count</th>\n",
       "      <th>sentences_count</th>\n",
       "      <th>total_punctuation_signs</th>\n",
       "      <th>total_question_marks</th>\n",
       "      <th>words_count</th>\n",
       "    </tr>\n",
       "  </thead>\n",
       "  <tbody>\n",
       "    <tr>\n",
       "      <th>count</th>\n",
       "      <td>669.000000</td>\n",
       "      <td>669.000000</td>\n",
       "      <td>669.000000</td>\n",
       "      <td>669.000000</td>\n",
       "      <td>669.000000</td>\n",
       "      <td>669.000000</td>\n",
       "      <td>669.000000</td>\n",
       "      <td>669.000000</td>\n",
       "      <td>669.000000</td>\n",
       "      <td>669.000000</td>\n",
       "    </tr>\n",
       "    <tr>\n",
       "      <th>mean</th>\n",
       "      <td>0.692078</td>\n",
       "      <td>3.994367</td>\n",
       "      <td>9.274572</td>\n",
       "      <td>5.142112</td>\n",
       "      <td>8900.159940</td>\n",
       "      <td>51.630792</td>\n",
       "      <td>182.343797</td>\n",
       "      <td>516.139013</td>\n",
       "      <td>17.321375</td>\n",
       "      <td>1745.061286</td>\n",
       "    </tr>\n",
       "    <tr>\n",
       "      <th>std</th>\n",
       "      <td>0.722363</td>\n",
       "      <td>2.525624</td>\n",
       "      <td>3.219786</td>\n",
       "      <td>0.311907</td>\n",
       "      <td>12114.486058</td>\n",
       "      <td>66.364803</td>\n",
       "      <td>229.765387</td>\n",
       "      <td>665.660957</td>\n",
       "      <td>24.903644</td>\n",
       "      <td>2392.830559</td>\n",
       "    </tr>\n",
       "    <tr>\n",
       "      <th>min</th>\n",
       "      <td>-1.000000</td>\n",
       "      <td>1.000000</td>\n",
       "      <td>2.541667</td>\n",
       "      <td>4.380328</td>\n",
       "      <td>74.000000</td>\n",
       "      <td>1.000000</td>\n",
       "      <td>1.000000</td>\n",
       "      <td>3.000000</td>\n",
       "      <td>0.000000</td>\n",
       "      <td>14.000000</td>\n",
       "    </tr>\n",
       "    <tr>\n",
       "      <th>25%</th>\n",
       "      <td>1.000000</td>\n",
       "      <td>3.000000</td>\n",
       "      <td>6.958333</td>\n",
       "      <td>4.946111</td>\n",
       "      <td>2787.000000</td>\n",
       "      <td>19.000000</td>\n",
       "      <td>79.000000</td>\n",
       "      <td>188.000000</td>\n",
       "      <td>4.000000</td>\n",
       "      <td>568.000000</td>\n",
       "    </tr>\n",
       "    <tr>\n",
       "      <th>50%</th>\n",
       "      <td>1.000000</td>\n",
       "      <td>3.454545</td>\n",
       "      <td>8.662338</td>\n",
       "      <td>5.086864</td>\n",
       "      <td>5718.000000</td>\n",
       "      <td>37.000000</td>\n",
       "      <td>137.000000</td>\n",
       "      <td>371.000000</td>\n",
       "      <td>12.000000</td>\n",
       "      <td>1134.000000</td>\n",
       "    </tr>\n",
       "    <tr>\n",
       "      <th>75%</th>\n",
       "      <td>1.000000</td>\n",
       "      <td>4.261905</td>\n",
       "      <td>11.173184</td>\n",
       "      <td>5.298030</td>\n",
       "      <td>9228.000000</td>\n",
       "      <td>59.000000</td>\n",
       "      <td>207.000000</td>\n",
       "      <td>539.000000</td>\n",
       "      <td>22.000000</td>\n",
       "      <td>1832.000000</td>\n",
       "    </tr>\n",
       "    <tr>\n",
       "      <th>max</th>\n",
       "      <td>1.000000</td>\n",
       "      <td>37.428571</td>\n",
       "      <td>30.461538</td>\n",
       "      <td>7.443548</td>\n",
       "      <td>131249.000000</td>\n",
       "      <td>912.000000</td>\n",
       "      <td>3324.000000</td>\n",
       "      <td>7424.000000</td>\n",
       "      <td>390.000000</td>\n",
       "      <td>26893.000000</td>\n",
       "    </tr>\n",
       "  </tbody>\n",
       "</table>\n",
       "</div>"
      ],
      "text/plain": [
       "       author_label  avg_paragraph_length  avg_sentence_length  \\\n",
       "count    669.000000            669.000000           669.000000   \n",
       "mean       0.692078              3.994367             9.274572   \n",
       "std        0.722363              2.525624             3.219786   \n",
       "min       -1.000000              1.000000             2.541667   \n",
       "25%        1.000000              3.000000             6.958333   \n",
       "50%        1.000000              3.454545             8.662338   \n",
       "75%        1.000000              4.261905            11.173184   \n",
       "max        1.000000             37.428571            30.461538   \n",
       "\n",
       "       avg_word_length  letters_count  paragraphs_count  sentences_count  \\\n",
       "count       669.000000     669.000000        669.000000       669.000000   \n",
       "mean          5.142112    8900.159940         51.630792       182.343797   \n",
       "std           0.311907   12114.486058         66.364803       229.765387   \n",
       "min           4.380328      74.000000          1.000000         1.000000   \n",
       "25%           4.946111    2787.000000         19.000000        79.000000   \n",
       "50%           5.086864    5718.000000         37.000000       137.000000   \n",
       "75%           5.298030    9228.000000         59.000000       207.000000   \n",
       "max           7.443548  131249.000000        912.000000      3324.000000   \n",
       "\n",
       "       total_punctuation_signs  total_question_marks   words_count  \n",
       "count               669.000000            669.000000    669.000000  \n",
       "mean                516.139013             17.321375   1745.061286  \n",
       "std                 665.660957             24.903644   2392.830559  \n",
       "min                   3.000000              0.000000     14.000000  \n",
       "25%                 188.000000              4.000000    568.000000  \n",
       "50%                 371.000000             12.000000   1134.000000  \n",
       "75%                 539.000000             22.000000   1832.000000  \n",
       "max                7424.000000            390.000000  26893.000000  "
      ]
     },
     "execution_count": 2,
     "metadata": {},
     "output_type": "execute_result"
    }
   ],
   "source": [
    "df.describe()"
   ]
  },
  {
   "cell_type": "code",
   "execution_count": 3,
   "metadata": {},
   "outputs": [
    {
     "data": {
      "text/html": [
       "<div>\n",
       "<style scoped>\n",
       "    .dataframe tbody tr th:only-of-type {\n",
       "        vertical-align: middle;\n",
       "    }\n",
       "\n",
       "    .dataframe tbody tr th {\n",
       "        vertical-align: top;\n",
       "    }\n",
       "\n",
       "    .dataframe thead th {\n",
       "        text-align: right;\n",
       "    }\n",
       "</style>\n",
       "<table border=\"1\" class=\"dataframe\">\n",
       "  <thead>\n",
       "    <tr style=\"text-align: right;\">\n",
       "      <th></th>\n",
       "      <th>author_label</th>\n",
       "      <th>avg_paragraph_length</th>\n",
       "      <th>avg_sentence_length</th>\n",
       "      <th>avg_word_length</th>\n",
       "      <th>letters_count</th>\n",
       "      <th>paragraphs_count</th>\n",
       "      <th>sentences_count</th>\n",
       "      <th>total_punctuation_signs</th>\n",
       "      <th>total_question_marks</th>\n",
       "      <th>words_count</th>\n",
       "    </tr>\n",
       "  </thead>\n",
       "  <tbody>\n",
       "    <tr>\n",
       "      <th>0</th>\n",
       "      <td>-1</td>\n",
       "      <td>3.187500</td>\n",
       "      <td>14.323529</td>\n",
       "      <td>5.482546</td>\n",
       "      <td>8010</td>\n",
       "      <td>32</td>\n",
       "      <td>102</td>\n",
       "      <td>359</td>\n",
       "      <td>0</td>\n",
       "      <td>1461</td>\n",
       "    </tr>\n",
       "    <tr>\n",
       "      <th>1</th>\n",
       "      <td>-1</td>\n",
       "      <td>3.166667</td>\n",
       "      <td>12.052632</td>\n",
       "      <td>5.591703</td>\n",
       "      <td>5122</td>\n",
       "      <td>24</td>\n",
       "      <td>76</td>\n",
       "      <td>172</td>\n",
       "      <td>0</td>\n",
       "      <td>916</td>\n",
       "    </tr>\n",
       "    <tr>\n",
       "      <th>2</th>\n",
       "      <td>-1</td>\n",
       "      <td>3.075758</td>\n",
       "      <td>11.201970</td>\n",
       "      <td>5.448549</td>\n",
       "      <td>12390</td>\n",
       "      <td>66</td>\n",
       "      <td>203</td>\n",
       "      <td>644</td>\n",
       "      <td>7</td>\n",
       "      <td>2274</td>\n",
       "    </tr>\n",
       "    <tr>\n",
       "      <th>3</th>\n",
       "      <td>-1</td>\n",
       "      <td>4.888889</td>\n",
       "      <td>18.522727</td>\n",
       "      <td>5.281288</td>\n",
       "      <td>17217</td>\n",
       "      <td>36</td>\n",
       "      <td>176</td>\n",
       "      <td>705</td>\n",
       "      <td>3</td>\n",
       "      <td>3260</td>\n",
       "    </tr>\n",
       "    <tr>\n",
       "      <th>4</th>\n",
       "      <td>-1</td>\n",
       "      <td>3.600000</td>\n",
       "      <td>13.905556</td>\n",
       "      <td>5.199760</td>\n",
       "      <td>13015</td>\n",
       "      <td>50</td>\n",
       "      <td>180</td>\n",
       "      <td>588</td>\n",
       "      <td>9</td>\n",
       "      <td>2503</td>\n",
       "    </tr>\n",
       "  </tbody>\n",
       "</table>\n",
       "</div>"
      ],
      "text/plain": [
       "   author_label  avg_paragraph_length  avg_sentence_length  avg_word_length  \\\n",
       "0            -1              3.187500            14.323529         5.482546   \n",
       "1            -1              3.166667            12.052632         5.591703   \n",
       "2            -1              3.075758            11.201970         5.448549   \n",
       "3            -1              4.888889            18.522727         5.281288   \n",
       "4            -1              3.600000            13.905556         5.199760   \n",
       "\n",
       "   letters_count  paragraphs_count  sentences_count  total_punctuation_signs  \\\n",
       "0           8010                32              102                      359   \n",
       "1           5122                24               76                      172   \n",
       "2          12390                66              203                      644   \n",
       "3          17217                36              176                      705   \n",
       "4          13015                50              180                      588   \n",
       "\n",
       "   total_question_marks  words_count  \n",
       "0                     0         1461  \n",
       "1                     0          916  \n",
       "2                     7         2274  \n",
       "3                     3         3260  \n",
       "4                     9         2503  "
      ]
     },
     "execution_count": 3,
     "metadata": {},
     "output_type": "execute_result"
    }
   ],
   "source": [
    "df.head()"
   ]
  },
  {
   "cell_type": "code",
   "execution_count": 4,
   "metadata": {},
   "outputs": [
    {
     "name": "stdout",
     "output_type": "stream",
     "text": [
      "Train model using ['letters_count', 'words_count'] features and C=1\n"
     ]
    }
   ],
   "source": [
    "columns = [\"letters_count\", \"words_count\"]\n",
    "print(\"Train model using \" + str(columns) + \" features and C=1\")\n",
    "x = df[columns].to_numpy()\n",
    "y = df[\"author_label\"].to_numpy()\n",
    "x_train, x_test, y_train, y_test = utils.split(x, y)\n",
    "\n"
   ]
  },
  {
   "cell_type": "code",
   "execution_count": 5,
   "metadata": {},
   "outputs": [
    {
     "name": "stdout",
     "output_type": "stream",
     "text": [
      "w: (-0.00,0.02) b: -0.71\n",
      "Train data report:\n",
      "              precision    recall  f1-score   support\n",
      "\n",
      "          -1       0.60      0.74      0.66        72\n",
      "           1       0.95      0.91      0.93       396\n",
      "\n",
      "    accuracy                           0.88       468\n",
      "   macro avg       0.77      0.82      0.79       468\n",
      "weighted avg       0.90      0.88      0.89       468\n",
      "\n",
      "Test data report:\n",
      "              precision    recall  f1-score   support\n",
      "\n",
      "          -1       0.53      0.81      0.64        31\n",
      "           1       0.96      0.87      0.91       170\n",
      "\n",
      "    accuracy                           0.86       201\n",
      "   macro avg       0.75      0.84      0.78       201\n",
      "weighted avg       0.89      0.86      0.87       201\n",
      "\n"
     ]
    },
    {
     "data": {
      "image/png": "[encoded data removed]",
      "text/plain": [
       "<Figure size 432x288 with 1 Axes>"
      ]
     },
     "metadata": {
      "needs_background": "light"
     },
     "output_type": "display_data"
    }
   ],
   "source": [
    "model = ml_model.Model(c=1)\n",
    "(w, b) = model.fit(x_train, y_train)\n",
    "predicted_train = model.predict(x_train)\n",
    "predicted_test = model.predict(x_test)\n",
    "print(\"w: (%0.2f,%0.2f) b: %0.2f\" % (w[0], w[1], b))\n",
    "utils.print_reports(y_train, predicted_train, y_test, predicted_test)\n",
    "\n",
    "plots_utils.classification_plot(w, b,\n",
    "                                x1=x[y == 1],\n",
    "                                x2=x[y == -1],\n",
    "                                labels=[\"Chekhov\", \"Kuprin\"],\n",
    "                                axis_labels=columns,\n",
    "                                transformation_function=lambda x: model.transform_features(x),\n",
    "                                reverse_trasformation_function=lambda x: model.reverse_transform(x))\n"
   ]
  },
  {
   "cell_type": "code",
   "execution_count": 6,
   "metadata": {},
   "outputs": [
    {
     "name": "stdout",
     "output_type": "stream",
     "text": [
      "For c=0.010000 minimal accuracy: 0.65 \n",
      "For c=0.100000 minimal accuracy: 0.65 \n",
      "For c=1.000000 minimal accuracy: 0.65 \n",
      "For c=10.000000 minimal accuracy: 0.65 \n",
      "For c=100.000000 minimal accuracy: 0.65 \n",
      "For c=1000.000000 minimal accuracy: 0.65 \n",
      "Best c is: 0.010000\n"
     ]
    }
   ],
   "source": [
    "\n",
    "\n",
    "c, scores = utils.cross_validate_and_choose_c(x_train, y_train)\n",
    "print(\"Best c is: %f\" % c)\n",
    "\n"
   ]
  },
  {
   "cell_type": "code",
   "execution_count": 7,
   "metadata": {},
   "outputs": [
    {
     "name": "stdout",
     "output_type": "stream",
     "text": [
      "Train data report:\n",
      "              precision    recall  f1-score   support\n",
      "\n",
      "          -1       0.60      0.74      0.66        72\n",
      "           1       0.95      0.91      0.93       396\n",
      "\n",
      "    accuracy                           0.88       468\n",
      "   macro avg       0.77      0.82      0.79       468\n",
      "weighted avg       0.90      0.88      0.89       468\n",
      "\n",
      "Test data report:\n",
      "              precision    recall  f1-score   support\n",
      "\n",
      "          -1       0.53      0.81      0.64        31\n",
      "           1       0.96      0.87      0.91       170\n",
      "\n",
      "    accuracy                           0.86       201\n",
      "   macro avg       0.75      0.84      0.78       201\n",
      "weighted avg       0.89      0.86      0.87       201\n",
      "\n"
     ]
    },
    {
     "data": {
      "image/png": "[encoded data removed]",
      "text/plain": [
       "<Figure size 432x288 with 1 Axes>"
      ]
     },
     "metadata": {
      "needs_background": "light"
     },
     "output_type": "display_data"
    }
   ],
   "source": [
    "model2 = ml_model.Model(c)\n",
    "(w2, b2) = model2.fit(x_train, y_train)\n",
    "predicted_train2 = model2.predict(x_train)\n",
    "predicted_test2 = model2.predict(x_test)\n",
    "utils.print_reports(y_train, predicted_train2, y_test, predicted_test2)\n",
    "\n",
    "plots_utils.classification_plot(w2, b2,\n",
    "                                x1=x[y == 1],\n",
    "                                x2=x[y == -1],\n",
    "                                labels=[\"Chekhov\", \"Kuprin\"],\n",
    "                                axis_labels=columns,\n",
    "                                transformation_function=lambda x: model2.transform_features(x),\n",
    "                                reverse_trasformation_function=lambda x: model2.reverse_transform(x))"
   ]
  },
  {
   "cell_type": "code",
   "execution_count": 8,
   "metadata": {},
   "outputs": [],
   "source": [
    "x = df[df.columns.difference([\"author_label\"])].to_numpy()\n",
    "y = df[\"author_label\"].to_numpy()\n",
    "x_train, x_test, y_train, y_test = utils.split(x, y)"
   ]
  },
  {
   "cell_type": "code",
   "execution_count": 9,
   "metadata": {},
   "outputs": [
    {
     "name": "stdout",
     "output_type": "stream",
     "text": [
      "For c=0.010000 minimal accuracy: 0.45 \n",
      "For c=0.100000 minimal accuracy: 0.45 \n",
      "For c=1.000000 minimal accuracy: 0.45 \n",
      "For c=10.000000 minimal accuracy: 0.45 \n",
      "For c=100.000000 minimal accuracy: 0.45 \n",
      "For c=1000.000000 minimal accuracy: 0.45 \n",
      "Best c is: 0.010000\n"
     ]
    }
   ],
   "source": [
    "c2, scores = utils.cross_validate_and_choose_c(x_train, y_train, use_svd=True)\n",
    "print(\"Best c is: %f\" % c2)\n"
   ]
  },
  {
   "cell_type": "code",
   "execution_count": 11,
   "metadata": {},
   "outputs": [
    {
     "name": "stdout",
     "output_type": "stream",
     "text": [
      "Train data report:\n",
      "              precision    recall  f1-score   support\n",
      "\n",
      "          -1       0.57      0.69      0.62        72\n",
      "           1       0.94      0.90      0.92       396\n",
      "\n",
      "    accuracy                           0.87       468\n",
      "   macro avg       0.76      0.80      0.77       468\n",
      "weighted avg       0.88      0.87      0.88       468\n",
      "\n",
      "Test data report:\n",
      "              precision    recall  f1-score   support\n",
      "\n",
      "          -1       0.61      0.81      0.69        31\n",
      "           1       0.96      0.91      0.93       170\n",
      "\n",
      "    accuracy                           0.89       201\n",
      "   macro avg       0.79      0.86      0.81       201\n",
      "weighted avg       0.91      0.89      0.90       201\n",
      "\n",
      "Features transformation matrix:\n",
      "[[-0.    -0.004]\n",
      " [-0.    -0.   ]\n",
      " [-0.    -0.004]\n",
      " [-0.98   0.167]\n",
      " [-0.005 -0.087]\n",
      " [-0.018 -0.315]\n",
      " [-0.054 -0.688]\n",
      " [-0.002 -0.044]\n",
      " [-0.193 -0.625]]\n"
     ]
    },
    {
     "data": {
      "image/png": "[encoded data removed]",
      "text/plain": [
       "<Figure size 432x288 with 1 Axes>"
      ]
     },
     "metadata": {
      "needs_background": "light"
     },
     "output_type": "display_data"
    }
   ],
   "source": [
    "model3 = ml_model.Model(c2, use_svd=True)\n",
    "(w3, b3) = model3.fit(x_train, y_train)\n",
    "predicted_train3 = model3.predict(x_train)\n",
    "predicted_test3 = model3.predict(x_test)\n",
    "utils.print_reports(y_train, predicted_train3, y_test, predicted_test3)\n",
    "\n",
    "print(\"Features transformation matrix:\")\n",
    "with np.printoptions(precision=3, suppress=True):\n",
    "    print(model3.transformation_matrix)\n",
    "\n",
    "plots_utils.classification_plot(w3, b3,\n",
    "                                x1=x[y == 1],\n",
    "                                x2=x[y == -1],\n",
    "                                labels=[\"Chekhov\", \"Kuprin\"],\n",
    "                                axis_labels=[\"Projection on first PC\", \"Projection on second PC\"],\n",
    "                                transformation_function=lambda x: model3.transform_features(x),\n",
    "                                reverse_trasformation_function=lambda x: model3.reverse_transform(x),\n",
    "                                file=None,\n",
    "                                plot_original=False)\n"
   ]
  }
 ],
 "metadata": {
  "kernelspec": {
   "display_name": "Python 3",
   "language": "python",
   "name": "python3"
  },
  "language_info": {
   "codemirror_mode": {
    "name": "ipython",
    "version": 3
   },
   "file_extension": ".py",
   "mimetype": "text/x-python",
   "name": "python",
   "nbconvert_exporter": "python",
   "pygments_lexer": "ipython3",
   "version": "3.7.5"
  }
 },
 "nbformat": 4,
 "nbformat_minor": 2
}
